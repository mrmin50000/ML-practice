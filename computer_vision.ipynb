{
 "cells": [
  {
   "cell_type": "code",
   "execution_count": 53,
   "id": "b9ae05c0",
   "metadata": {},
   "outputs": [
    {
     "name": "stdout",
     "output_type": "stream",
     "text": [
      "2.6.0+rocm6.1\n",
      "0.21.0+rocm6.1\n"
     ]
    }
   ],
   "source": [
    "# 0. Computer vision libs\n",
    "import torch \n",
    "from torch import nn\n",
    "\n",
    "import torchvision\n",
    "from torchvision import datasets\n",
    "from torchvision import transforms\n",
    "from torchvision.transforms import ToTensor\n",
    "\n",
    "import matplotlib.pyplot as plt\n",
    "\n",
    "print(torch.__version__)\n",
    "print(torchvision.__version__)"
   ]
  },
  {
   "cell_type": "code",
   "execution_count": 54,
   "id": "93455995",
   "metadata": {},
   "outputs": [],
   "source": [
    "train_data = datasets.FashionMNIST(root=\"data\", train=True, download=True, transform=torchvision.transforms.ToTensor(), target_transform=None)\n",
    "test_data = datasets.FashionMNIST(root=\"data\", train=False, download=True, transform=ToTensor(), target_transform=None)"
   ]
  },
  {
   "cell_type": "code",
   "execution_count": 55,
   "id": "b88730d3",
   "metadata": {},
   "outputs": [
    {
     "data": {
      "text/plain": [
       "(60000, 10000)"
      ]
     },
     "execution_count": 55,
     "metadata": {},
     "output_type": "execute_result"
    }
   ],
   "source": [
    "len(train_data), len(test_data)"
   ]
  },
  {
   "cell_type": "code",
   "execution_count": 56,
   "id": "a96d69c3",
   "metadata": {},
   "outputs": [
    {
     "data": {
      "text/plain": [
       "(tensor([[[0.0000, 0.0000, 0.0000, 0.0000, 0.0000, 0.0000, 0.0000, 0.0000,\n",
       "           0.0000, 0.0000, 0.0000, 0.0000, 0.0000, 0.0000, 0.0000, 0.0000,\n",
       "           0.0000, 0.0000, 0.0000, 0.0000, 0.0000, 0.0000, 0.0000, 0.0000,\n",
       "           0.0000, 0.0000, 0.0000, 0.0000],\n",
       "          [0.0000, 0.0000, 0.0000, 0.0000, 0.0000, 0.0000, 0.0000, 0.0000,\n",
       "           0.0000, 0.0000, 0.0000, 0.0000, 0.0000, 0.0000, 0.0000, 0.0000,\n",
       "           0.0000, 0.0000, 0.0000, 0.0000, 0.0000, 0.0000, 0.0000, 0.0000,\n",
       "           0.0000, 0.0000, 0.0000, 0.0000],\n",
       "          [0.0000, 0.0000, 0.0000, 0.0000, 0.0000, 0.0000, 0.0000, 0.0000,\n",
       "           0.0000, 0.0000, 0.0000, 0.0000, 0.0000, 0.0000, 0.0000, 0.0000,\n",
       "           0.0000, 0.0000, 0.0000, 0.0000, 0.0000, 0.0000, 0.0000, 0.0000,\n",
       "           0.0000, 0.0000, 0.0000, 0.0000],\n",
       "          [0.0000, 0.0000, 0.0000, 0.0000, 0.0000, 0.0000, 0.0000, 0.0000,\n",
       "           0.0000, 0.0000, 0.0000, 0.0000, 0.0039, 0.0000, 0.0000, 0.0510,\n",
       "           0.2863, 0.0000, 0.0000, 0.0039, 0.0157, 0.0000, 0.0000, 0.0000,\n",
       "           0.0000, 0.0039, 0.0039, 0.0000],\n",
       "          [0.0000, 0.0000, 0.0000, 0.0000, 0.0000, 0.0000, 0.0000, 0.0000,\n",
       "           0.0000, 0.0000, 0.0000, 0.0000, 0.0118, 0.0000, 0.1412, 0.5333,\n",
       "           0.4980, 0.2431, 0.2118, 0.0000, 0.0000, 0.0000, 0.0039, 0.0118,\n",
       "           0.0157, 0.0000, 0.0000, 0.0118],\n",
       "          [0.0000, 0.0000, 0.0000, 0.0000, 0.0000, 0.0000, 0.0000, 0.0000,\n",
       "           0.0000, 0.0000, 0.0000, 0.0000, 0.0235, 0.0000, 0.4000, 0.8000,\n",
       "           0.6902, 0.5255, 0.5647, 0.4824, 0.0902, 0.0000, 0.0000, 0.0000,\n",
       "           0.0000, 0.0471, 0.0392, 0.0000],\n",
       "          [0.0000, 0.0000, 0.0000, 0.0000, 0.0000, 0.0000, 0.0000, 0.0000,\n",
       "           0.0000, 0.0000, 0.0000, 0.0000, 0.0000, 0.0000, 0.6078, 0.9255,\n",
       "           0.8118, 0.6980, 0.4196, 0.6118, 0.6314, 0.4275, 0.2510, 0.0902,\n",
       "           0.3020, 0.5098, 0.2824, 0.0588],\n",
       "          [0.0000, 0.0000, 0.0000, 0.0000, 0.0000, 0.0000, 0.0000, 0.0000,\n",
       "           0.0000, 0.0000, 0.0000, 0.0039, 0.0000, 0.2706, 0.8118, 0.8745,\n",
       "           0.8549, 0.8471, 0.8471, 0.6392, 0.4980, 0.4745, 0.4784, 0.5725,\n",
       "           0.5529, 0.3451, 0.6745, 0.2588],\n",
       "          [0.0000, 0.0000, 0.0000, 0.0000, 0.0000, 0.0000, 0.0000, 0.0000,\n",
       "           0.0000, 0.0039, 0.0039, 0.0039, 0.0000, 0.7843, 0.9098, 0.9098,\n",
       "           0.9137, 0.8980, 0.8745, 0.8745, 0.8431, 0.8353, 0.6431, 0.4980,\n",
       "           0.4824, 0.7686, 0.8980, 0.0000],\n",
       "          [0.0000, 0.0000, 0.0000, 0.0000, 0.0000, 0.0000, 0.0000, 0.0000,\n",
       "           0.0000, 0.0000, 0.0000, 0.0000, 0.0000, 0.7176, 0.8824, 0.8471,\n",
       "           0.8745, 0.8941, 0.9216, 0.8902, 0.8784, 0.8706, 0.8784, 0.8667,\n",
       "           0.8745, 0.9608, 0.6784, 0.0000],\n",
       "          [0.0000, 0.0000, 0.0000, 0.0000, 0.0000, 0.0000, 0.0000, 0.0000,\n",
       "           0.0000, 0.0000, 0.0000, 0.0000, 0.0000, 0.7569, 0.8941, 0.8549,\n",
       "           0.8353, 0.7765, 0.7059, 0.8314, 0.8235, 0.8275, 0.8353, 0.8745,\n",
       "           0.8627, 0.9529, 0.7922, 0.0000],\n",
       "          [0.0000, 0.0000, 0.0000, 0.0000, 0.0000, 0.0000, 0.0000, 0.0000,\n",
       "           0.0000, 0.0039, 0.0118, 0.0000, 0.0471, 0.8588, 0.8627, 0.8314,\n",
       "           0.8549, 0.7529, 0.6627, 0.8902, 0.8157, 0.8549, 0.8784, 0.8314,\n",
       "           0.8863, 0.7725, 0.8196, 0.2039],\n",
       "          [0.0000, 0.0000, 0.0000, 0.0000, 0.0000, 0.0000, 0.0000, 0.0000,\n",
       "           0.0000, 0.0000, 0.0235, 0.0000, 0.3882, 0.9569, 0.8706, 0.8627,\n",
       "           0.8549, 0.7961, 0.7765, 0.8667, 0.8431, 0.8353, 0.8706, 0.8627,\n",
       "           0.9608, 0.4667, 0.6549, 0.2196],\n",
       "          [0.0000, 0.0000, 0.0000, 0.0000, 0.0000, 0.0000, 0.0000, 0.0000,\n",
       "           0.0000, 0.0157, 0.0000, 0.0000, 0.2157, 0.9255, 0.8941, 0.9020,\n",
       "           0.8941, 0.9412, 0.9098, 0.8353, 0.8549, 0.8745, 0.9176, 0.8510,\n",
       "           0.8510, 0.8196, 0.3608, 0.0000],\n",
       "          [0.0000, 0.0000, 0.0039, 0.0157, 0.0235, 0.0275, 0.0078, 0.0000,\n",
       "           0.0000, 0.0000, 0.0000, 0.0000, 0.9294, 0.8863, 0.8510, 0.8745,\n",
       "           0.8706, 0.8588, 0.8706, 0.8667, 0.8471, 0.8745, 0.8980, 0.8431,\n",
       "           0.8549, 1.0000, 0.3020, 0.0000],\n",
       "          [0.0000, 0.0118, 0.0000, 0.0000, 0.0000, 0.0000, 0.0000, 0.0000,\n",
       "           0.0000, 0.2431, 0.5686, 0.8000, 0.8941, 0.8118, 0.8353, 0.8667,\n",
       "           0.8549, 0.8157, 0.8275, 0.8549, 0.8784, 0.8745, 0.8588, 0.8431,\n",
       "           0.8784, 0.9569, 0.6235, 0.0000],\n",
       "          [0.0000, 0.0000, 0.0000, 0.0000, 0.0706, 0.1725, 0.3216, 0.4196,\n",
       "           0.7412, 0.8941, 0.8627, 0.8706, 0.8510, 0.8863, 0.7843, 0.8039,\n",
       "           0.8275, 0.9020, 0.8784, 0.9176, 0.6902, 0.7373, 0.9804, 0.9725,\n",
       "           0.9137, 0.9333, 0.8431, 0.0000],\n",
       "          [0.0000, 0.2235, 0.7333, 0.8157, 0.8784, 0.8667, 0.8784, 0.8157,\n",
       "           0.8000, 0.8392, 0.8157, 0.8196, 0.7843, 0.6235, 0.9608, 0.7569,\n",
       "           0.8078, 0.8745, 1.0000, 1.0000, 0.8667, 0.9176, 0.8667, 0.8275,\n",
       "           0.8627, 0.9098, 0.9647, 0.0000],\n",
       "          [0.0118, 0.7922, 0.8941, 0.8784, 0.8667, 0.8275, 0.8275, 0.8392,\n",
       "           0.8039, 0.8039, 0.8039, 0.8627, 0.9412, 0.3137, 0.5882, 1.0000,\n",
       "           0.8980, 0.8667, 0.7373, 0.6039, 0.7490, 0.8235, 0.8000, 0.8196,\n",
       "           0.8706, 0.8941, 0.8824, 0.0000],\n",
       "          [0.3843, 0.9137, 0.7765, 0.8235, 0.8706, 0.8980, 0.8980, 0.9176,\n",
       "           0.9765, 0.8627, 0.7608, 0.8431, 0.8510, 0.9451, 0.2549, 0.2863,\n",
       "           0.4157, 0.4588, 0.6588, 0.8588, 0.8667, 0.8431, 0.8510, 0.8745,\n",
       "           0.8745, 0.8784, 0.8980, 0.1137],\n",
       "          [0.2941, 0.8000, 0.8314, 0.8000, 0.7569, 0.8039, 0.8275, 0.8824,\n",
       "           0.8471, 0.7255, 0.7725, 0.8078, 0.7765, 0.8353, 0.9412, 0.7647,\n",
       "           0.8902, 0.9608, 0.9373, 0.8745, 0.8549, 0.8314, 0.8196, 0.8706,\n",
       "           0.8627, 0.8667, 0.9020, 0.2627],\n",
       "          [0.1882, 0.7961, 0.7176, 0.7608, 0.8353, 0.7725, 0.7255, 0.7451,\n",
       "           0.7608, 0.7529, 0.7922, 0.8392, 0.8588, 0.8667, 0.8627, 0.9255,\n",
       "           0.8824, 0.8471, 0.7804, 0.8078, 0.7294, 0.7098, 0.6941, 0.6745,\n",
       "           0.7098, 0.8039, 0.8078, 0.4510],\n",
       "          [0.0000, 0.4784, 0.8588, 0.7569, 0.7020, 0.6706, 0.7176, 0.7686,\n",
       "           0.8000, 0.8235, 0.8353, 0.8118, 0.8275, 0.8235, 0.7843, 0.7686,\n",
       "           0.7608, 0.7490, 0.7647, 0.7490, 0.7765, 0.7529, 0.6902, 0.6118,\n",
       "           0.6549, 0.6941, 0.8235, 0.3608],\n",
       "          [0.0000, 0.0000, 0.2902, 0.7412, 0.8314, 0.7490, 0.6863, 0.6745,\n",
       "           0.6863, 0.7098, 0.7255, 0.7373, 0.7412, 0.7373, 0.7569, 0.7765,\n",
       "           0.8000, 0.8196, 0.8235, 0.8235, 0.8275, 0.7373, 0.7373, 0.7608,\n",
       "           0.7529, 0.8471, 0.6667, 0.0000],\n",
       "          [0.0078, 0.0000, 0.0000, 0.0000, 0.2588, 0.7843, 0.8706, 0.9294,\n",
       "           0.9373, 0.9490, 0.9647, 0.9529, 0.9569, 0.8667, 0.8627, 0.7569,\n",
       "           0.7490, 0.7020, 0.7137, 0.7137, 0.7098, 0.6902, 0.6510, 0.6588,\n",
       "           0.3882, 0.2275, 0.0000, 0.0000],\n",
       "          [0.0000, 0.0000, 0.0000, 0.0000, 0.0000, 0.0000, 0.0000, 0.1569,\n",
       "           0.2392, 0.1725, 0.2824, 0.1608, 0.1373, 0.0000, 0.0000, 0.0000,\n",
       "           0.0000, 0.0000, 0.0000, 0.0000, 0.0000, 0.0000, 0.0000, 0.0000,\n",
       "           0.0000, 0.0000, 0.0000, 0.0000],\n",
       "          [0.0000, 0.0000, 0.0000, 0.0000, 0.0000, 0.0000, 0.0000, 0.0000,\n",
       "           0.0000, 0.0000, 0.0000, 0.0000, 0.0000, 0.0000, 0.0000, 0.0000,\n",
       "           0.0000, 0.0000, 0.0000, 0.0000, 0.0000, 0.0000, 0.0000, 0.0000,\n",
       "           0.0000, 0.0000, 0.0000, 0.0000],\n",
       "          [0.0000, 0.0000, 0.0000, 0.0000, 0.0000, 0.0000, 0.0000, 0.0000,\n",
       "           0.0000, 0.0000, 0.0000, 0.0000, 0.0000, 0.0000, 0.0000, 0.0000,\n",
       "           0.0000, 0.0000, 0.0000, 0.0000, 0.0000, 0.0000, 0.0000, 0.0000,\n",
       "           0.0000, 0.0000, 0.0000, 0.0000]]]),\n",
       " 9)"
      ]
     },
     "execution_count": 56,
     "metadata": {},
     "output_type": "execute_result"
    }
   ],
   "source": [
    "image, label = train_data[0]\n",
    "image, label"
   ]
  },
  {
   "cell_type": "code",
   "execution_count": 57,
   "id": "2e029a9c",
   "metadata": {},
   "outputs": [
    {
     "data": {
      "text/plain": [
       "['T-shirt/top',\n",
       " 'Trouser',\n",
       " 'Pullover',\n",
       " 'Dress',\n",
       " 'Coat',\n",
       " 'Sandal',\n",
       " 'Shirt',\n",
       " 'Sneaker',\n",
       " 'Bag',\n",
       " 'Ankle boot']"
      ]
     },
     "execution_count": 57,
     "metadata": {},
     "output_type": "execute_result"
    }
   ],
   "source": [
    "class_names = train_data.classes\n",
    "class_names"
   ]
  },
  {
   "cell_type": "code",
   "execution_count": 58,
   "id": "a9cc655a",
   "metadata": {},
   "outputs": [
    {
     "data": {
      "text/plain": [
       "{'T-shirt/top': 0,\n",
       " 'Trouser': 1,\n",
       " 'Pullover': 2,\n",
       " 'Dress': 3,\n",
       " 'Coat': 4,\n",
       " 'Sandal': 5,\n",
       " 'Shirt': 6,\n",
       " 'Sneaker': 7,\n",
       " 'Bag': 8,\n",
       " 'Ankle boot': 9}"
      ]
     },
     "execution_count": 58,
     "metadata": {},
     "output_type": "execute_result"
    }
   ],
   "source": [
    "class_to_idx = train_data.class_to_idx\n",
    "class_to_idx"
   ]
  },
  {
   "cell_type": "code",
   "execution_count": 59,
   "id": "28b1c6a4",
   "metadata": {},
   "outputs": [
    {
     "data": {
      "text/plain": [
       "tensor([9, 0, 0,  ..., 3, 0, 5])"
      ]
     },
     "execution_count": 59,
     "metadata": {},
     "output_type": "execute_result"
    }
   ],
   "source": [
    "train_data.targets"
   ]
  },
  {
   "cell_type": "code",
   "execution_count": 60,
   "id": "042a2b8d",
   "metadata": {},
   "outputs": [
    {
     "data": {
      "text/plain": [
       "(torch.Size([1, 28, 28]), 9)"
      ]
     },
     "execution_count": 60,
     "metadata": {},
     "output_type": "execute_result"
    }
   ],
   "source": [
    "# 1.1 check shape \n",
    "image.shape, label"
   ]
  },
  {
   "cell_type": "code",
   "execution_count": 61,
   "id": "ad32db85",
   "metadata": {},
   "outputs": [
    {
     "data": {
      "text/plain": [
       "Text(0.5, 1.0, '9')"
      ]
     },
     "execution_count": 61,
     "metadata": {},
     "output_type": "execute_result"
    },
    {
     "data": {
      "image/png": "[encoded data removed]",
      "text/plain": [
       "<Figure size 640x480 with 1 Axes>"
      ]
     },
     "metadata": {},
     "output_type": "display_data"
    }
   ],
   "source": [
    "#1.2 Visualizing data\n",
    "plt.imshow(image.squeeze())\n",
    "plt.title(label)"
   ]
  },
  {
   "cell_type": "code",
   "execution_count": 62,
   "id": "177c83e2",
   "metadata": {},
   "outputs": [
    {
     "data": {
      "text/plain": [
       "(np.float64(-0.5), np.float64(27.5), np.float64(27.5), np.float64(-0.5))"
      ]
     },
     "execution_count": 62,
     "metadata": {},
     "output_type": "execute_result"
    },
    {
     "data": {
      "image/png": "[encoded data removed]",
      "text/plain": [
       "<Figure size 640x480 with 1 Axes>"
      ]
     },
     "metadata": {},
     "output_type": "display_data"
    }
   ],
   "source": [
    "plt.imshow(image.squeeze(), cmap=\"gray\")\n",
    "plt.title(class_names[label])\n",
    "plt.axis(False)"
   ]
  },
  {
   "cell_type": "code",
   "execution_count": 63,
   "id": "bd24551d",
   "metadata": {},
   "outputs": [
    {
     "data": {
      "image/png": "[encoded data removed]",
      "text/plain": [
       "<Figure size 900x900 with 16 Axes>"
      ]
     },
     "metadata": {},
     "output_type": "display_data"
    }
   ],
   "source": [
    "torch.manual_seed(42)\n",
    "fig = plt.figure(figsize=(9, 9))\n",
    "rows, cols = 4, 4\n",
    "for i in range(1, rows*cols+1):\n",
    "    random_idx = torch.randint(0, len(train_data), size=[1]).item()\n",
    "    image, label = train_data[random_idx]\n",
    "    fig.add_subplot(rows, cols, i)\n",
    "    plt.imshow(image.squeeze(), cmap='gray')\n",
    "    plt.title(class_names[label])\n",
    "    plt.axis(False)"
   ]
  },
  {
   "cell_type": "code",
   "execution_count": 64,
   "id": "07e63ccb",
   "metadata": {},
   "outputs": [
    {
     "data": {
      "text/plain": [
       "(Dataset FashionMNIST\n",
       "     Number of datapoints: 60000\n",
       "     Root location: data\n",
       "     Split: Train\n",
       "     StandardTransform\n",
       " Transform: ToTensor(),\n",
       " Dataset FashionMNIST\n",
       "     Number of datapoints: 10000\n",
       "     Root location: data\n",
       "     Split: Test\n",
       "     StandardTransform\n",
       " Transform: ToTensor())"
      ]
     },
     "execution_count": 64,
     "metadata": {},
     "output_type": "execute_result"
    }
   ],
   "source": [
    "train_data, test_data"
   ]
  },
  {
   "cell_type": "code",
   "execution_count": 65,
   "id": "d1b6de6a",
   "metadata": {},
   "outputs": [
    {
     "data": {
      "text/plain": [
       "(<torch.utils.data.dataloader.DataLoader at 0x7b3d76894cd0>,\n",
       " <torch.utils.data.dataloader.DataLoader at 0x7b3e7c799480>)"
      ]
     },
     "execution_count": 65,
     "metadata": {},
     "output_type": "execute_result"
    }
   ],
   "source": [
    "# 2. prepare DataLoader\n",
    "from torch.utils.data import DataLoader\n",
    "\n",
    "# Setup the batch size hyperparameter\n",
    "BATCH_SIZE = 32\n",
    "\n",
    "# turn datasets into iterables(batches)\n",
    "train_dataloader = DataLoader(dataset=train_data, batch_size=BATCH_SIZE, shuffle=True)\n",
    "test_dataloader = DataLoader(dataset=test_data, batch_size=BATCH_SIZE, shuffle=False)\n",
    "\n",
    "train_dataloader, test_dataloader"
   ]
  },
  {
   "cell_type": "code",
   "execution_count": 66,
   "id": "7534791f",
   "metadata": {},
   "outputs": [
    {
     "name": "stdout",
     "output_type": "stream",
     "text": [
      "DataLoaders: (<torch.utils.data.dataloader.DataLoader object at 0x7b3d76894cd0>, <torch.utils.data.dataloader.DataLoader object at 0x7b3e7c799480>)\n",
      "Length of train_dataloader: 1875 batches of 32...\n",
      "Length of test_dataloader: 313 batches of 32...\n"
     ]
    }
   ],
   "source": [
    "#Lets check out what what we ve created\n",
    "print(f'DataLoaders: {train_dataloader, test_dataloader}')\n",
    "print(f'Length of train_dataloader: {len(train_dataloader)} batches of {BATCH_SIZE}...')\n",
    "print(f'Length of test_dataloader: {len(test_dataloader)} batches of {BATCH_SIZE}...')"
   ]
  },
  {
   "cell_type": "code",
   "execution_count": 67,
   "id": "5adb0d9d",
   "metadata": {},
   "outputs": [
    {
     "data": {
      "text/plain": [
       "(torch.Size([32, 1, 28, 28]), torch.Size([32]))"
      ]
     },
     "execution_count": 67,
     "metadata": {},
     "output_type": "execute_result"
    }
   ],
   "source": [
    "# Check out whats inside the training dataloader\n",
    "train_features_batch, train_labels_batch = next(iter(train_dataloader))\n",
    "train_features_batch.shape, train_labels_batch.shape"
   ]
  },
  {
   "cell_type": "code",
   "execution_count": 68,
   "id": "84f09971",
   "metadata": {},
   "outputs": [
    {
     "name": "stdout",
     "output_type": "stream",
     "text": [
      "Image size: torch.Size([1, 28, 28])\n",
      "Label: 8, size: torch.Size([])\n"
     ]
    },
    {
     "data": {
      "image/png": "[encoded data removed]",
      "text/plain": [
       "<Figure size 640x480 with 1 Axes>"
      ]
     },
     "metadata": {},
     "output_type": "display_data"
    }
   ],
   "source": [
    "# Show a sample\n",
    "# torch.manual_seed(42)\n",
    "random_idx = torch.randint(0, len(train_features_batch), size=[1]).item()\n",
    "image, label = train_features_batch[random_idx], train_labels_batch[random_idx]\n",
    "plt.imshow(image.squeeze(), cmap=\"gray\")\n",
    "plt.title(class_names[label])\n",
    "plt.axis(False)\n",
    "print(f'Image size: {image.shape}')\n",
    "print(f'Label: {label}, size: {label.shape}')"
   ]
  },
  {
   "cell_type": "code",
   "execution_count": 69,
   "id": "e16f7e8b",
   "metadata": {},
   "outputs": [
    {
     "name": "stdout",
     "output_type": "stream",
     "text": [
      "Shape before flattening: torch.Size([1, 28, 28])\n",
      "Shape after flattening: torch.Size([1, 784])\n"
     ]
    }
   ],
   "source": [
    "# Model 0: baseline model\n",
    "\n",
    "#Create flatten layer\n",
    "flatten_model = nn.Flatten()\n",
    "\n",
    "# Get a single sample \n",
    "x = train_features_batch[0]\n",
    "\n",
    "# Flatten the sample\n",
    "output = flatten_model(x) \n",
    "\n",
    "# print out what happend\n",
    "print(f'Shape before flattening: {x.shape}')\n",
    "print(f'Shape after flattening: {output.shape}')"
   ]
  },
  {
   "cell_type": "code",
   "execution_count": 70,
   "id": "d5344046",
   "metadata": {},
   "outputs": [],
   "source": [
    "class FashionMNISTModelV0(nn.Module):\n",
    "    def __init__(self, input_shape: int, hidden_units: int, output_shape: int):\n",
    "        super().__init__()\n",
    "        self.layer_stack = nn.Sequential(\n",
    "            nn.Flatten(),\n",
    "            nn.Linear(in_features=input_shape, out_features=hidden_units),\n",
    "            nn.Linear(in_features=hidden_units, out_features=output_shape)\n",
    "        )\n",
    "    \n",
    "    def forward(self, x):\n",
    "        return self.layer_stack(x)"
   ]
  },
  {
   "cell_type": "code",
   "execution_count": 71,
   "id": "243e0d36",
   "metadata": {},
   "outputs": [
    {
     "data": {
      "text/plain": [
       "FashionMNISTModelV0(\n",
       "  (layer_stack): Sequential(\n",
       "    (0): Flatten(start_dim=1, end_dim=-1)\n",
       "    (1): Linear(in_features=784, out_features=10, bias=True)\n",
       "    (2): Linear(in_features=10, out_features=10, bias=True)\n",
       "  )\n",
       ")"
      ]
     },
     "execution_count": 71,
     "metadata": {},
     "output_type": "execute_result"
    }
   ],
   "source": [
    "torch.manual_seed(42)\n",
    "\n",
    "model_0 = FashionMNISTModelV0(28*28, 10, len(class_names))\n",
    "model_0"
   ]
  },
  {
   "cell_type": "code",
   "execution_count": 72,
   "id": "89c783d8",
   "metadata": {},
   "outputs": [
    {
     "data": {
      "text/plain": [
       "tensor([[-0.0315,  0.3171,  0.0531, -0.2525,  0.5959,  0.2112,  0.3233,  0.2694,\n",
       "         -0.1004,  0.0157]], grad_fn=<AddmmBackward0>)"
      ]
     },
     "execution_count": 72,
     "metadata": {},
     "output_type": "execute_result"
    }
   ],
   "source": [
    "dummy_x = torch.rand([1, 1, 28, 28])\n",
    "model_0(dummy_x)"
   ]
  },
  {
   "cell_type": "code",
   "execution_count": 73,
   "id": "b5192cf4",
   "metadata": {},
   "outputs": [
    {
     "data": {
      "text/plain": [
       "OrderedDict([('layer_stack.1.weight',\n",
       "              tensor([[ 0.0273,  0.0296, -0.0084,  ..., -0.0142,  0.0093,  0.0135],\n",
       "                      [-0.0188, -0.0354,  0.0187,  ..., -0.0106, -0.0001,  0.0115],\n",
       "                      [-0.0008,  0.0017,  0.0045,  ..., -0.0127, -0.0188,  0.0059],\n",
       "                      ...,\n",
       "                      [-0.0116,  0.0273, -0.0344,  ...,  0.0176,  0.0283, -0.0011],\n",
       "                      [-0.0230,  0.0257,  0.0291,  ..., -0.0187, -0.0087,  0.0001],\n",
       "                      [ 0.0176, -0.0147,  0.0053,  ..., -0.0336, -0.0221,  0.0205]])),\n",
       "             ('layer_stack.1.bias',\n",
       "              tensor([-0.0093,  0.0283, -0.0033,  0.0255,  0.0017,  0.0037, -0.0302, -0.0123,\n",
       "                       0.0018,  0.0163])),\n",
       "             ('layer_stack.2.weight',\n",
       "              tensor([[ 0.0614, -0.0687,  0.0021,  0.2718,  0.2109,  0.1079, -0.2279, -0.1063,\n",
       "                        0.2019,  0.2847],\n",
       "                      [-0.1495,  0.1344, -0.0740,  0.2006, -0.0475, -0.2514, -0.3130, -0.0118,\n",
       "                        0.0932, -0.1864],\n",
       "                      [ 0.2488,  0.1500,  0.1907,  0.1457, -0.3050, -0.0580,  0.1643,  0.1565,\n",
       "                       -0.2877, -0.1792],\n",
       "                      [ 0.2305, -0.2618,  0.2397, -0.0610,  0.0232,  0.1542,  0.0851, -0.2027,\n",
       "                        0.1030, -0.2715],\n",
       "                      [-0.1596, -0.0555, -0.0633,  0.2302, -0.1726,  0.2654,  0.1473,  0.1029,\n",
       "                        0.2252, -0.2160],\n",
       "                      [-0.2725,  0.0118,  0.1559,  0.1596,  0.0132,  0.3024,  0.1124,  0.1366,\n",
       "                       -0.1533,  0.0965],\n",
       "                      [-0.1184, -0.2555, -0.2057, -0.1909, -0.0477, -0.1324,  0.2905,  0.1307,\n",
       "                       -0.2629,  0.0133],\n",
       "                      [ 0.2727, -0.0127,  0.0513,  0.0863, -0.1043, -0.2047, -0.1185, -0.0825,\n",
       "                        0.2488, -0.2571],\n",
       "                      [ 0.0425, -0.1209, -0.0336, -0.0281, -0.1227,  0.0730,  0.0747, -0.1816,\n",
       "                        0.1943,  0.2853],\n",
       "                      [-0.1310,  0.0645, -0.1171,  0.2168, -0.0245, -0.2820,  0.0736,  0.2621,\n",
       "                        0.0012, -0.0810]])),\n",
       "             ('layer_stack.2.bias',\n",
       "              tensor([-0.0087,  0.1791,  0.2712, -0.0791,  0.1685,  0.1762,  0.2825,  0.2266,\n",
       "                      -0.2612, -0.2613]))])"
      ]
     },
     "execution_count": 73,
     "metadata": {},
     "output_type": "execute_result"
    }
   ],
   "source": [
    "model_0.state_dict()"
   ]
  },
  {
   "cell_type": "code",
   "execution_count": 74,
   "id": "f10ad6a9",
   "metadata": {},
   "outputs": [],
   "source": [
    "# 3.1 loss, optim and evaluation metrics\n",
    "from helper_functions import accuracy_fn\n",
    "\n",
    "loss_fn = nn.CrossEntropyLoss()\n",
    "optimizer = torch.optim.SGD(params=model_0.parameters(), lr=0.1)"
   ]
  },
  {
   "cell_type": "code",
   "execution_count": 75,
   "id": "9131ea7d",
   "metadata": {},
   "outputs": [],
   "source": [
    "# 3.2 Create a func to time our experiments\n",
    "from timeit import default_timer as timer\n",
    "def print_train_time(start: float, end: float):\n",
    "    total_time = end - start\n",
    "    print(f'train time: {total_time:.3f} seconds')\n",
    "    return total_time"
   ]
  },
  {
   "cell_type": "code",
   "execution_count": 76,
   "id": "e1cd5dfe",
   "metadata": {},
   "outputs": [
    {
     "name": "stdout",
     "output_type": "stream",
     "text": [
      "train time: 0.000 seconds\n"
     ]
    },
    {
     "data": {
      "text/plain": [
       "1.3795000086247455e-05"
      ]
     },
     "execution_count": 76,
     "metadata": {},
     "output_type": "execute_result"
    }
   ],
   "source": [
    "start_time = timer()\n",
    "\n",
    "end_time = timer()\n",
    "print_train_time(start=start_time, end=end_time)"
   ]
  },
  {
   "cell_type": "code",
   "execution_count": 77,
   "id": "d2c66395",
   "metadata": {},
   "outputs": [
    {
     "data": {
      "application/vnd.jupyter.widget-view+json": {
       "model_id": "c83ec45e951e4d069d82fc5eedda42d5",
       "version_major": 2,
       "version_minor": 0
      },
      "text/plain": [
       "  0%|          | 0/3 [00:00<?, ?it/s]"
      ]
     },
     "metadata": {},
     "output_type": "display_data"
    },
    {
     "name": "stdout",
     "output_type": "stream",
     "text": [
      "Epoch: 0\n",
      "------\n",
      "Looked at 0 / 60000\n",
      "Looked at 12800 / 60000\n",
      "Looked at 25600 / 60000\n",
      "Looked at 38400 / 60000\n",
      "Looked at 51200 / 60000\n",
      "\n",
      "Train loss: 0.5904 | test loss: 0.5095 | Test acc: 82.0387\n",
      "Epoch: 1\n",
      "------\n",
      "Looked at 0 / 60000\n",
      "Looked at 12800 / 60000\n",
      "Looked at 25600 / 60000\n",
      "Looked at 38400 / 60000\n",
      "Looked at 51200 / 60000\n",
      "\n",
      "Train loss: 0.4763 | test loss: 0.4799 | Test acc: 83.1969\n",
      "Epoch: 2\n",
      "------\n",
      "Looked at 0 / 60000\n",
      "Looked at 12800 / 60000\n",
      "Looked at 25600 / 60000\n",
      "Looked at 38400 / 60000\n",
      "Looked at 51200 / 60000\n",
      "\n",
      "Train loss: 0.4550 | test loss: 0.4766 | Test acc: 83.4265\n",
      "train time: 7.469 seconds\n"
     ]
    }
   ],
   "source": [
    "# 3.3 trainig loop and training model on batches of data\n",
    "# import tqdm for progress bar\n",
    "from tqdm.auto import tqdm\n",
    "\n",
    "# Set the seed and start the timer\n",
    "torch.manual_seed(42)\n",
    "train_time_start = timer()\n",
    "\n",
    "#Set the number of epochs (we'll keep this small for faster training)\n",
    "epochs = 3\n",
    "\n",
    "# training and testing loop\n",
    "\n",
    "for epoch in tqdm(range(epochs)):\n",
    "    print(f'Epoch: {epoch}\\n------')\n",
    "    train_loss = 0\n",
    "    # add a loop to loop through the training batches\n",
    "    for batch, (X, y) in enumerate(train_dataloader):\n",
    "        model_0.train()\n",
    "        y_pred = model_0(X)\n",
    "\n",
    "        loss = loss_fn(y_pred, y)\n",
    "        train_loss += loss\n",
    "\n",
    "        optimizer.zero_grad()\n",
    "\n",
    "        loss.backward()\n",
    "\n",
    "        optimizer.step()\n",
    "\n",
    "        if batch % 400 == 0:\n",
    "            print(f'Looked at {batch * len(X)} / {len(train_dataloader.dataset)}')\n",
    "\n",
    "    # Devide total train loss by length of train dataloader\n",
    "    train_loss /= len(train_dataloader)\n",
    "\n",
    "    # Testing\n",
    "    test_loss, test_acc = 0, 0\n",
    "    model_0.eval()\n",
    "    with torch.inference_mode():\n",
    "        for X_test, y_test in test_dataloader:\n",
    "            test_pred = model_0(X_test)\n",
    "            test_loss += loss_fn(test_pred, y_test)\n",
    "            test_acc += accuracy_fn(y_true=y_test, y_pred=test_pred.argmax(dim=1))\n",
    "\n",
    "        # Calculate the test loss average per batch\n",
    "        test_loss /= len(test_dataloader)\n",
    "\n",
    "        # Calculate the test acc average per batch\n",
    "        test_acc /= len(test_dataloader)\n",
    "    print(f'\\nTrain loss: {train_loss:.4f} | test loss: {test_loss:.4f} | Test acc: {test_acc:.4f}')\n",
    "\n",
    "train_time_end = timer()\n",
    "total_train_time_model_0 = print_train_time(start=train_time_start, end=train_time_end)\n"
   ]
  },
  {
   "cell_type": "code",
   "execution_count": 78,
   "id": "c294a15f",
   "metadata": {},
   "outputs": [
    {
     "data": {
      "text/plain": [
       "device(type='cpu')"
      ]
     },
     "execution_count": 78,
     "metadata": {},
     "output_type": "execute_result"
    }
   ],
   "source": [
    "next(model_0.parameters()).device"
   ]
  },
  {
   "cell_type": "code",
   "execution_count": 79,
   "id": "8b25593d",
   "metadata": {},
   "outputs": [
    {
     "data": {
      "application/vnd.jupyter.widget-view+json": {
       "model_id": "4002447e438845e8b4bc2f7640e87a18",
       "version_major": 2,
       "version_minor": 0
      },
      "text/plain": [
       "  0%|          | 0/313 [00:00<?, ?it/s]"
      ]
     },
     "metadata": {},
     "output_type": "display_data"
    },
    {
     "data": {
      "text/plain": [
       "{'model_name': 'FashionMNISTModelV0',\n",
       " 'model_loss': 0.47663894295692444,\n",
       " 'model_acc': 83.42651757188499}"
      ]
     },
     "execution_count": 79,
     "metadata": {},
     "output_type": "execute_result"
    }
   ],
   "source": [
    "# 4. make preds\n",
    "torch.manual_seed(42)\n",
    "def eval_model(model: torch.nn.Module, data_loader: torch.utils.data.DataLoader, loss_fn: torch.nn.Module, accuracy_fn):\n",
    "    loss, acc = 0, 0\n",
    "    model.eval()\n",
    "    with torch.inference_mode():\n",
    "        for X, y in tqdm(data_loader):\n",
    "            y_pred = model(X)\n",
    "\n",
    "            loss += loss_fn(y_pred, y)\n",
    "            acc += accuracy_fn(y, y_pred.argmax(dim=1))\n",
    "\n",
    "        loss /= len(data_loader)\n",
    "        acc /= len(data_loader)\n",
    "\n",
    "    return {\"model_name\": model.__class__.__name__,\n",
    "            \"model_loss\": loss.item(),\n",
    "            \"model_acc\": acc}\n",
    "\n",
    "# Calculate model 0 results on test dataset\n",
    "model_0_results = eval_model(model=model_0, data_loader=test_dataloader,loss_fn = loss_fn, accuracy_fn=accuracy_fn)\n",
    "model_0_results"
   ]
  },
  {
   "cell_type": "code",
   "execution_count": 80,
   "id": "961b0b93",
   "metadata": {},
   "outputs": [],
   "source": [
    "# 5 agnostic code"
   ]
  },
  {
   "cell_type": "code",
   "execution_count": 81,
   "id": "f9f7113a",
   "metadata": {},
   "outputs": [],
   "source": [
    "# 6 Model 1: non-linearity\n",
    "class FashionMNISTModelV1(nn.Module):\n",
    "    def __init__(self, input_shape: int, hidden_units: int, output_shape: int):\n",
    "        super().__init__()\n",
    "        self.layer_stack = nn.Sequential(\n",
    "            nn.Flatten(),\n",
    "            nn.Linear(in_features=input_shape, out_features=hidden_units),\n",
    "            nn.ReLU(),\n",
    "            nn.Linear(in_features=hidden_units, out_features=output_shape),\n",
    "            nn.ReLU()\n",
    "        )\n",
    "    def forward(self, x: torch.Tensor):\n",
    "        return self.layer_stack(x)"
   ]
  },
  {
   "cell_type": "code",
   "execution_count": 82,
   "id": "6b833852",
   "metadata": {},
   "outputs": [
    {
     "data": {
      "text/plain": [
       "FashionMNISTModelV1(\n",
       "  (layer_stack): Sequential(\n",
       "    (0): Flatten(start_dim=1, end_dim=-1)\n",
       "    (1): Linear(in_features=784, out_features=10, bias=True)\n",
       "    (2): ReLU()\n",
       "    (3): Linear(in_features=10, out_features=10, bias=True)\n",
       "    (4): ReLU()\n",
       "  )\n",
       ")"
      ]
     },
     "execution_count": 82,
     "metadata": {},
     "output_type": "execute_result"
    }
   ],
   "source": [
    "torch.manual_seed(42)\n",
    "model_1 = FashionMNISTModelV1(input_shape=784, hidden_units=10, output_shape=len(class_names))\n",
    "model_1"
   ]
  },
  {
   "cell_type": "code",
   "execution_count": 83,
   "id": "7653238f",
   "metadata": {},
   "outputs": [],
   "source": [
    "loss_fn = torch.nn.CrossEntropyLoss()\n",
    "optimizer = torch.optim.SGD(params=model_1.parameters(), lr=0.1)"
   ]
  },
  {
   "cell_type": "code",
   "execution_count": 84,
   "id": "819a38dc",
   "metadata": {},
   "outputs": [],
   "source": [
    "def train_step(model: torch.nn.Module,\n",
    "               data_loader: torch.utils.data.DataLoader,\n",
    "               loss_fn: torch.nn.Module,\n",
    "               optimizer: torch.optim.Optimizer,\n",
    "               accuracy_fn):\n",
    "    \n",
    "    train_loss, train_acc = 0, 0\n",
    "    model.train()\n",
    "\n",
    "    for batch, (X, y) in enumerate(data_loader):\n",
    "        \n",
    "        y_pred = model(X)\n",
    "\n",
    "        loss = loss_fn(y_pred, y)\n",
    "        train_loss += loss\n",
    "        train_acc += accuracy_fn(y_true=y, y_pred=y_pred.argmax(dim=1))\n",
    "\n",
    "        optimizer.zero_grad()\n",
    "\n",
    "        loss.backward()\n",
    "\n",
    "        optimizer.step()\n",
    "\n",
    "    train_loss /= len(data_loader)\n",
    "    train_acc /= len(data_loader)\n",
    "    print(f'Train loss: {train_loss:.5f}, | Train acc: {train_acc:.2f}%')"
   ]
  },
  {
   "cell_type": "code",
   "execution_count": 85,
   "id": "db09ede5",
   "metadata": {},
   "outputs": [],
   "source": [
    "def test_step(model : torch.nn.Module,\n",
    "              data_loader: torch.utils.data.DataLoader,\n",
    "              loss_fn: torch.nn.Module,\n",
    "              accuracy_fn):\n",
    "    \n",
    "    test_loss, test_acc = 0, 0\n",
    "    model.eval()\n",
    "\n",
    "    with torch.inference_mode():\n",
    "        for X, y in data_loader:\n",
    "            test_pred = model(X)\n",
    "            test_loss += loss_fn(test_pred, y)\n",
    "            test_acc += accuracy_fn(y_true=y, y_pred=test_pred.argmax(dim=1))\n",
    "\n",
    "        test_loss /= len(data_loader)\n",
    "        test_acc /= len(data_loader)\n",
    "        print(f'Test loss; {test_loss:.5f} | Test acc: {test_acc:.2f}%\\n')"
   ]
  },
  {
   "cell_type": "code",
   "execution_count": 86,
   "id": "2613361f",
   "metadata": {},
   "outputs": [
    {
     "data": {
      "application/vnd.jupyter.widget-view+json": {
       "model_id": "25d9226ad9fb4ea5b9348c38cbe4cc41",
       "version_major": 2,
       "version_minor": 0
      },
      "text/plain": [
       "  0%|          | 0/3 [00:00<?, ?it/s]"
      ]
     },
     "metadata": {},
     "output_type": "display_data"
    },
    {
     "name": "stdout",
     "output_type": "stream",
     "text": [
      "epoch: 0\n",
      "==========\n",
      "Train loss: 1.09199, | Train acc: 61.34%\n",
      "Test loss; 0.95636 | Test acc: 65.00%\n",
      "\n",
      "epoch: 1\n",
      "==========\n",
      "Train loss: 0.78101, | Train acc: 71.93%\n",
      "Test loss; 0.72227 | Test acc: 73.91%\n",
      "\n",
      "epoch: 2\n",
      "==========\n",
      "Train loss: 0.67027, | Train acc: 75.94%\n",
      "Test loss; 0.68500 | Test acc: 75.02%\n",
      "\n",
      "train time: 7.339 seconds\n"
     ]
    }
   ],
   "source": [
    "torch.manual_seed(42)\n",
    "\n",
    "train_time_start = timer()\n",
    "\n",
    "epochs = 3\n",
    "\n",
    "for epoch in tqdm(range(epochs)):\n",
    "    print(f'epoch: {epoch}\\n==========')\n",
    "    train_step(model_1, train_dataloader, loss_fn, optimizer, accuracy_fn)\n",
    "    test_step(model_1, test_dataloader, loss_fn, accuracy_fn)\n",
    "train_time_end = timer()\n",
    "total_train_time_model_1 = print_train_time(train_time_start, train_time_end)\n"
   ]
  },
  {
   "cell_type": "code",
   "execution_count": 87,
   "id": "6aa03f7b",
   "metadata": {},
   "outputs": [
    {
     "data": {
      "text/plain": [
       "{'model_name': 'FashionMNISTModelV0',\n",
       " 'model_loss': 0.47663894295692444,\n",
       " 'model_acc': 83.42651757188499}"
      ]
     },
     "execution_count": 87,
     "metadata": {},
     "output_type": "execute_result"
    }
   ],
   "source": [
    "model_0_results"
   ]
  },
  {
   "cell_type": "code",
   "execution_count": 88,
   "id": "1f5a11d0",
   "metadata": {},
   "outputs": [
    {
     "data": {
      "application/vnd.jupyter.widget-view+json": {
       "model_id": "eb64768020594188963b4d695f5ccc20",
       "version_major": 2,
       "version_minor": 0
      },
      "text/plain": [
       "  0%|          | 0/313 [00:00<?, ?it/s]"
      ]
     },
     "metadata": {},
     "output_type": "display_data"
    },
    {
     "data": {
      "text/plain": [
       "{'model_name': 'FashionMNISTModelV1',\n",
       " 'model_loss': 0.6850008964538574,\n",
       " 'model_acc': 75.01996805111821}"
      ]
     },
     "execution_count": 88,
     "metadata": {},
     "output_type": "execute_result"
    }
   ],
   "source": [
    "model_1_results = eval_model(model_1, test_dataloader, loss_fn, accuracy_fn)\n",
    "model_1_results"
   ]
  },
  {
   "cell_type": "code",
   "execution_count": 89,
   "id": "7a46f93b",
   "metadata": {},
   "outputs": [],
   "source": [
    "#6 Model 2: Build a CNN!\n",
    "class FashionMNISTModelV2(nn.Module):\n",
    "    def __init__(self, input_shape: int, hidden_units: int, output_shape: int):\n",
    "        super().__init__()\n",
    "        self.conv_block_1 = nn.Sequential(\n",
    "            nn.Conv2d(in_channels=input_shape, out_channels=hidden_units, kernel_size=3, stride=1, padding=1),\n",
    "            nn.ReLU(),\n",
    "            nn.Conv2d(in_channels=hidden_units, out_channels=hidden_units, kernel_size=3, stride=1, padding=1),\n",
    "            nn.ReLU(),\n",
    "            nn.MaxPool2d(kernel_size=2)\n",
    "        )\n",
    "        self.conv_block_2 = nn.Sequential(\n",
    "            nn.Conv2d(in_channels=hidden_units, out_channels=hidden_units, kernel_size=3, stride=1, padding=1),\n",
    "            nn.ReLU(),\n",
    "            nn.Conv2d(in_channels=hidden_units, out_channels=hidden_units, kernel_size=3, stride=1, padding=1),\n",
    "            nn.ReLU(),\n",
    "            nn.MaxPool2d(kernel_size=2)\n",
    "        )\n",
    "        self.classifier = nn.Sequential(\n",
    "            nn.Flatten(),\n",
    "            nn.Linear(in_features=hidden_units*7*7, out_features=output_shape)\n",
    "        )\n",
    "\n",
    "    def forward(self, x):\n",
    "        x = self.conv_block_1(x)\n",
    "        \n",
    "        x = self.conv_block_2(x)\n",
    "        \n",
    "        x = self.classifier(x)\n",
    "        return x    "
   ]
  },
  {
   "cell_type": "code",
   "execution_count": 90,
   "id": "8ee7cd64",
   "metadata": {},
   "outputs": [],
   "source": [
    "torch.manual_seed(42)\n",
    "model_2 = FashionMNISTModelV2(1, 10, output_shape=len(class_names))"
   ]
  },
  {
   "cell_type": "code",
   "execution_count": 91,
   "id": "85a414ee",
   "metadata": {},
   "outputs": [
    {
     "name": "stdout",
     "output_type": "stream",
     "text": [
      "Image batch shape: torch.Size([32, 3, 64, 64])\n",
      "Single image shape: torch.Size([3, 64, 64])\n",
      "Test image:\n",
      " tensor([[[-0.0793,  1.6144, -0.4617,  ..., -0.3390,  0.1549, -0.2794],\n",
      "         [-0.5967,  0.0242,  0.8264,  ...,  0.5394,  0.0590,  0.2875],\n",
      "         [ 0.0881, -0.0106,  2.0317,  ...,  0.6341, -0.5408,  1.3265],\n",
      "         ...,\n",
      "         [ 0.5949,  1.0955,  0.7693,  ..., -0.5738,  0.9187,  0.7561],\n",
      "         [ 0.4068,  0.9570,  0.2887,  ...,  0.1231,  0.7267,  0.3002],\n",
      "         [ 1.9694,  0.9515,  1.3571,  ..., -0.7764, -0.4411, -0.2924]],\n",
      "\n",
      "        [[-0.0115, -0.5974,  2.0710,  ..., -1.6814,  0.9977,  0.6090],\n",
      "         [-1.2258,  1.6480, -1.4137,  ...,  0.7258,  0.8074, -0.7784],\n",
      "         [ 1.4650, -0.3883, -0.5527,  ...,  0.5641,  0.2478, -0.1571],\n",
      "         ...,\n",
      "         [ 1.5853,  1.6764,  0.3468,  ...,  0.6637, -0.8358,  0.3972],\n",
      "         [-1.4526,  0.4073,  0.3668,  ...,  0.8799,  0.6329, -0.3277],\n",
      "         [ 0.6710, -2.3354, -0.2408,  ..., -0.3148, -0.6067, -1.9394]],\n",
      "\n",
      "        [[-0.9010, -0.5509,  0.8681,  ...,  0.6061, -0.5306, -0.7076],\n",
      "         [-1.2771, -0.3144,  0.7196,  ...,  1.4076,  1.9254,  1.4800],\n",
      "         [-0.7532,  0.6214, -0.5246,  ...,  1.3352, -0.2138, -0.2625],\n",
      "         ...,\n",
      "         [ 0.8497, -0.7730,  0.1136,  ...,  0.6172, -1.9147, -0.9924],\n",
      "         [-0.6055, -0.9184, -0.6788,  ...,  1.4098,  0.3674,  1.2207],\n",
      "         [ 1.2078, -0.4061,  1.7300,  ...,  0.9589,  0.8936,  0.8743]]])\n"
     ]
    }
   ],
   "source": [
    "images = torch.randn(size=(32, 3, 64, 64))\n",
    "test_image = images[0]\n",
    "\n",
    "print(f'Image batch shape: {images.shape}')\n",
    "print(f'Single image shape: {test_image.shape}')\n",
    "print(f'Test image:\\n {test_image}')"
   ]
  },
  {
   "cell_type": "code",
   "execution_count": 92,
   "id": "373feeda",
   "metadata": {},
   "outputs": [
    {
     "data": {
      "text/plain": [
       "tensor([[[ 0.4308,  1.2368, -0.6056,  ..., -0.5771,  0.5092,  0.6029],\n",
       "         [ 0.1728,  0.1201,  0.3334,  ...,  0.9820, -0.3648,  0.3929],\n",
       "         [-0.5700, -0.2093,  1.4068,  ..., -0.4570,  0.6664,  0.4407],\n",
       "         ...,\n",
       "         [-0.1123,  0.2007,  0.0256,  ..., -0.2485, -0.2937,  1.2019],\n",
       "         [ 1.4382,  1.1859, -0.6891,  ...,  0.0615, -0.1020, -0.1389],\n",
       "         [-0.3151,  0.1077,  0.4338,  ..., -0.0351, -0.2374, -0.3865]],\n",
       "\n",
       "        [[ 0.0705, -0.4075, -0.6670,  ..., -0.1650, -1.1660, -0.1443],\n",
       "         [ 0.0360, -0.2798,  0.7168,  ...,  1.1139, -0.1128,  0.8921],\n",
       "         [-1.5408, -0.4789, -1.0191,  ...,  0.1810,  0.6157, -0.8785],\n",
       "         ...,\n",
       "         [-0.2540,  0.6555, -1.2796,  ..., -0.1566, -0.5915, -0.0778],\n",
       "         [ 0.3122, -1.3105,  0.2163,  ..., -0.3659,  0.6624,  0.3876],\n",
       "         [ 0.0356, -0.3588, -0.0515,  ..., -0.3323, -0.3442, -1.2892]],\n",
       "\n",
       "        [[-0.2347,  0.0972,  0.1598,  ..., -0.5194, -0.0770,  0.5179],\n",
       "         [ 0.4966,  0.4623, -0.0750,  ...,  0.0307, -0.5601, -0.6266],\n",
       "         [-0.4124,  0.2781,  0.5365,  ..., -0.6594,  0.1063,  1.7484],\n",
       "         ...,\n",
       "         [ 1.0157, -0.1590,  1.3842,  ..., -0.5591, -0.1873, -0.1398],\n",
       "         [ 0.4193,  0.7394, -0.9509,  ..., -0.5410,  0.3637,  0.1873],\n",
       "         [-0.2060,  0.1160,  0.0902,  ...,  0.4564, -0.3292,  0.6747]],\n",
       "\n",
       "        ...,\n",
       "\n",
       "        [[-0.2397,  0.3743,  0.4633,  ...,  0.6246,  0.0293, -0.2736],\n",
       "         [-0.0523, -0.3361,  0.2155,  ..., -0.9866, -0.3771,  0.2167],\n",
       "         [ 0.3801, -0.3822,  0.1476,  ...,  0.7927, -0.0350, -0.8427],\n",
       "         ...,\n",
       "         [ 0.1004,  0.5329, -0.4520,  ...,  0.0752, -0.2353,  0.2123],\n",
       "         [ 0.1945, -0.1236,  0.9298,  ..., -0.1042,  0.0797,  0.1100],\n",
       "         [ 0.7355,  0.6759, -0.9033,  ..., -0.9710,  0.4715,  0.3274]],\n",
       "\n",
       "        [[-0.1464, -0.3600, -0.6441,  ..., -0.7177, -1.3544, -0.9250],\n",
       "         [ 0.7796,  0.0302,  1.4835,  ..., -0.0034,  1.2736,  0.8977],\n",
       "         [-0.3347, -0.3837, -0.7307,  ...,  0.1576, -0.0027,  0.3494],\n",
       "         ...,\n",
       "         [ 0.4362,  0.2025, -0.5289,  ...,  0.2930, -0.3859, -0.2113],\n",
       "         [-0.9460, -0.6613, -0.1447,  ..., -0.0248,  0.7379,  0.9293],\n",
       "         [ 0.4035, -0.5722,  0.6825,  ...,  0.1061,  0.0882, -0.9811]],\n",
       "\n",
       "        [[ 0.0023, -1.2425, -0.0720,  ...,  0.6360, -0.0710,  0.1198],\n",
       "         [-0.1049, -0.1826,  0.4086,  ...,  0.0750,  0.3929, -0.2999],\n",
       "         [-0.6134, -0.1135, -0.4317,  ..., -0.8988, -0.5877, -0.3397],\n",
       "         ...,\n",
       "         [-0.2377, -0.3645, -0.3146,  ..., -0.4583, -0.0131,  0.1275],\n",
       "         [-0.1285, -0.5095,  1.1681,  ..., -0.6035, -0.3534, -0.8505],\n",
       "         [-1.2603, -1.3190, -0.2047,  ..., -0.0474,  0.7263, -0.9532]]],\n",
       "       grad_fn=<SqueezeBackward1>)"
      ]
     },
     "execution_count": 92,
     "metadata": {},
     "output_type": "execute_result"
    }
   ],
   "source": [
    "# Create a single conv2d layer\n",
    "torch.manual_seed(42)\n",
    "conv_layer = nn.Conv2d(in_channels=3, out_channels=10, kernel_size=3, stride=1, padding=0)\n",
    "\n",
    "conv_output = conv_layer(test_image)\n",
    "conv_output"
   ]
  },
  {
   "cell_type": "code",
   "execution_count": 93,
   "id": "7c5b2bd6",
   "metadata": {},
   "outputs": [
    {
     "data": {
      "text/plain": [
       "torch.Size([3, 64, 64])"
      ]
     },
     "execution_count": 93,
     "metadata": {},
     "output_type": "execute_result"
    }
   ],
   "source": [
    "test_image.shape"
   ]
  },
  {
   "cell_type": "code",
   "execution_count": 94,
   "id": "0e46b989",
   "metadata": {},
   "outputs": [
    {
     "data": {
      "text/plain": [
       "torch.Size([10, 62, 62])"
      ]
     },
     "execution_count": 94,
     "metadata": {},
     "output_type": "execute_result"
    }
   ],
   "source": [
    "max_pool_layer = nn.MaxPool2d(kernel_size=2)\n",
    "\n",
    "test_image_through_conv = conv_layer(test_image)\n",
    "test_image_through_conv.shape"
   ]
  },
  {
   "cell_type": "code",
   "execution_count": 95,
   "id": "fedefa36",
   "metadata": {},
   "outputs": [
    {
     "data": {
      "text/plain": [
       "torch.Size([10, 31, 31])"
      ]
     },
     "execution_count": 95,
     "metadata": {},
     "output_type": "execute_result"
    }
   ],
   "source": [
    "x = max_pool_layer(test_image_through_conv)\n",
    "x.shape"
   ]
  },
  {
   "cell_type": "code",
   "execution_count": 96,
   "id": "ecffec49",
   "metadata": {},
   "outputs": [],
   "source": [
    "# 7. Setup loss func/eval metrics/optimizer\n",
    "\n",
    "loss_fn = nn.CrossEntropyLoss()\n",
    "optimizer = torch.optim.SGD(params=model_2.parameters(), lr=0.1)"
   ]
  },
  {
   "cell_type": "code",
   "execution_count": 97,
   "id": "8166fc24",
   "metadata": {},
   "outputs": [
    {
     "data": {
      "application/vnd.jupyter.widget-view+json": {
       "model_id": "7bf4113c3e074ebbaef20fedd64c9e47",
       "version_major": 2,
       "version_minor": 0
      },
      "text/plain": [
       "  0%|          | 0/3 [00:00<?, ?it/s]"
      ]
     },
     "metadata": {},
     "output_type": "display_data"
    },
    {
     "name": "stdout",
     "output_type": "stream",
     "text": [
      "Epoch: 0\n",
      "-------------\n",
      "Train loss: 0.59203, | Train acc: 78.52%\n",
      "Test loss; 0.39263 | Test acc: 85.91%\n",
      "\n",
      "Epoch: 1\n",
      "-------------\n",
      "Train loss: 0.36232, | Train acc: 87.04%\n",
      "Test loss; 0.34975 | Test acc: 87.33%\n",
      "\n",
      "Epoch: 2\n",
      "-------------\n",
      "Train loss: 0.32416, | Train acc: 88.25%\n",
      "Test loss; 0.32896 | Test acc: 88.13%\n",
      "\n",
      "train time: 24.768 seconds\n"
     ]
    }
   ],
   "source": [
    "torch.manual_seed(42)\n",
    "torch.cuda.manual_seed(42)\n",
    "\n",
    "train_time_start_model_2 = timer()\n",
    "\n",
    "epochs = 3\n",
    "for epoch in tqdm(range(epochs)):\n",
    "    print(f'Epoch: {epoch}\\n-------------')\n",
    "    train_step(model_2, train_dataloader, loss_fn, optimizer, accuracy_fn)\n",
    "    test_step(model_2, test_dataloader, loss_fn, accuracy_fn)\n",
    "\n",
    "train_time_end_model_2 = timer()\n",
    "total_train_time_model_2 = print_train_time(train_time_start_model_2, train_time_end_model_2)\n"
   ]
  },
  {
   "cell_type": "code",
   "execution_count": 99,
   "id": "d5c518d7",
   "metadata": {},
   "outputs": [
    {
     "data": {
      "application/vnd.jupyter.widget-view+json": {
       "model_id": "6acada2e447c463687301bb0afa80690",
       "version_major": 2,
       "version_minor": 0
      },
      "text/plain": [
       "  0%|          | 0/313 [00:00<?, ?it/s]"
      ]
     },
     "metadata": {},
     "output_type": "display_data"
    },
    {
     "data": {
      "text/plain": [
       "{'model_name': 'FashionMNISTModelV2',\n",
       " 'model_loss': 0.32895955443382263,\n",
       " 'model_acc': 88.12899361022365}"
      ]
     },
     "execution_count": 99,
     "metadata": {},
     "output_type": "execute_result"
    }
   ],
   "source": [
    "# get model 2 results\n",
    "model_2_results = eval_model(model_2, test_dataloader, loss_fn, accuracy_fn)\n",
    "model_2_results"
   ]
  },
  {
   "cell_type": "code",
   "execution_count": 101,
   "id": "9612431d",
   "metadata": {},
   "outputs": [
    {
     "data": {
      "text/html": [
       "<div>\n",
       "<style scoped>\n",
       "    .dataframe tbody tr th:only-of-type {\n",
       "        vertical-align: middle;\n",
       "    }\n",
       "\n",
       "    .dataframe tbody tr th {\n",
       "        vertical-align: top;\n",
       "    }\n",
       "\n",
       "    .dataframe thead th {\n",
       "        text-align: right;\n",
       "    }\n",
       "</style>\n",
       "<table border=\"1\" class=\"dataframe\">\n",
       "  <thead>\n",
       "    <tr style=\"text-align: right;\">\n",
       "      <th></th>\n",
       "      <th>model_name</th>\n",
       "      <th>model_loss</th>\n",
       "      <th>model_acc</th>\n",
       "    </tr>\n",
       "  </thead>\n",
       "  <tbody>\n",
       "    <tr>\n",
       "      <th>0</th>\n",
       "      <td>FashionMNISTModelV0</td>\n",
       "      <td>0.476639</td>\n",
       "      <td>83.426518</td>\n",
       "    </tr>\n",
       "    <tr>\n",
       "      <th>1</th>\n",
       "      <td>FashionMNISTModelV1</td>\n",
       "      <td>0.685001</td>\n",
       "      <td>75.019968</td>\n",
       "    </tr>\n",
       "    <tr>\n",
       "      <th>2</th>\n",
       "      <td>FashionMNISTModelV2</td>\n",
       "      <td>0.328960</td>\n",
       "      <td>88.128994</td>\n",
       "    </tr>\n",
       "  </tbody>\n",
       "</table>\n",
       "</div>"
      ],
      "text/plain": [
       "            model_name  model_loss  model_acc\n",
       "0  FashionMNISTModelV0    0.476639  83.426518\n",
       "1  FashionMNISTModelV1    0.685001  75.019968\n",
       "2  FashionMNISTModelV2    0.328960  88.128994"
      ]
     },
     "execution_count": 101,
     "metadata": {},
     "output_type": "execute_result"
    }
   ],
   "source": [
    "# 8. Compare model results and training time\n",
    "import pandas as pd\n",
    "compare_results = pd.DataFrame([model_0_results, model_1_results, model_2_results])\n",
    "compare_results"
   ]
  },
  {
   "cell_type": "code",
   "execution_count": 102,
   "id": "ebf2c3fd",
   "metadata": {},
   "outputs": [
    {
     "data": {
      "text/html": [
       "<div>\n",
       "<style scoped>\n",
       "    .dataframe tbody tr th:only-of-type {\n",
       "        vertical-align: middle;\n",
       "    }\n",
       "\n",
       "    .dataframe tbody tr th {\n",
       "        vertical-align: top;\n",
       "    }\n",
       "\n",
       "    .dataframe thead th {\n",
       "        text-align: right;\n",
       "    }\n",
       "</style>\n",
       "<table border=\"1\" class=\"dataframe\">\n",
       "  <thead>\n",
       "    <tr style=\"text-align: right;\">\n",
       "      <th></th>\n",
       "      <th>model_name</th>\n",
       "      <th>model_loss</th>\n",
       "      <th>model_acc</th>\n",
       "      <th>training_time</th>\n",
       "    </tr>\n",
       "  </thead>\n",
       "  <tbody>\n",
       "    <tr>\n",
       "      <th>0</th>\n",
       "      <td>FashionMNISTModelV0</td>\n",
       "      <td>0.476639</td>\n",
       "      <td>83.426518</td>\n",
       "      <td>7.469091</td>\n",
       "    </tr>\n",
       "    <tr>\n",
       "      <th>1</th>\n",
       "      <td>FashionMNISTModelV1</td>\n",
       "      <td>0.685001</td>\n",
       "      <td>75.019968</td>\n",
       "      <td>7.339498</td>\n",
       "    </tr>\n",
       "    <tr>\n",
       "      <th>2</th>\n",
       "      <td>FashionMNISTModelV2</td>\n",
       "      <td>0.328960</td>\n",
       "      <td>88.128994</td>\n",
       "      <td>24.768129</td>\n",
       "    </tr>\n",
       "  </tbody>\n",
       "</table>\n",
       "</div>"
      ],
      "text/plain": [
       "            model_name  model_loss  model_acc  training_time\n",
       "0  FashionMNISTModelV0    0.476639  83.426518       7.469091\n",
       "1  FashionMNISTModelV1    0.685001  75.019968       7.339498\n",
       "2  FashionMNISTModelV2    0.328960  88.128994      24.768129"
      ]
     },
     "execution_count": 102,
     "metadata": {},
     "output_type": "execute_result"
    }
   ],
   "source": [
    "compare_results[\"training_time\"] = [total_train_time_model_0, total_train_time_model_1, total_train_time_model_2]\n",
    "compare_results"
   ]
  },
  {
   "cell_type": "code",
   "execution_count": 103,
   "id": "d2f74eea",
   "metadata": {},
   "outputs": [
    {
     "data": {
      "text/plain": [
       "Text(0, 0.5, 'model')"
      ]
     },
     "execution_count": 103,
     "metadata": {},
     "output_type": "execute_result"
    },
    {
     "data": {
      "image/png": "[encoded data removed]",
      "text/plain": [
       "<Figure size 640x480 with 1 Axes>"
      ]
     },
     "metadata": {},
     "output_type": "display_data"
    }
   ],
   "source": [
    "compare_results.set_index(\"model_name\")[\"model_acc\"].plot(kind=\"barh\")\n",
    "plt.xlabel(\"accuracy (%)\")\n",
    "plt.ylabel(\"model\")"
   ]
  },
  {
   "cell_type": "code",
   "execution_count": 104,
   "id": "83ed866f",
   "metadata": {},
   "outputs": [],
   "source": [
    "# 9. make and evaluate random preds with best model\n",
    "def make_predictions(model: torch.nn.Module, data: list):\n",
    "    pred_probs = []\n",
    "    model.eval()\n",
    "    with torch.inference_mode():\n",
    "        for sample in data:\n",
    "            sample = torch.unsqueeze(sample, dim=0)\n",
    "            pred_logit = model(sample)\n",
    "            pred_prob = torch.softmax(pred_logit.squeeze(), dim=0)\n",
    "            pred_probs.append(pred_prob)\n",
    "    return torch.stack(pred_probs)"
   ]
  },
  {
   "cell_type": "code",
   "execution_count": 126,
   "id": "d6d9ba1e",
   "metadata": {},
   "outputs": [
    {
     "data": {
      "text/plain": [
       "torch.Size([1, 28, 28])"
      ]
     },
     "execution_count": 126,
     "metadata": {},
     "output_type": "execute_result"
    }
   ],
   "source": [
    "import random\n",
    "# random.seed(42)\n",
    "test_samples = []\n",
    "test_labels = []\n",
    "for sample, label in random.sample(list(test_data), k=9):\n",
    "    test_samples.append(sample)\n",
    "    test_labels.append(label)\n",
    "\n",
    "test_samples[0].shape"
   ]
  },
  {
   "cell_type": "code",
   "execution_count": 108,
   "id": "e5ef096d",
   "metadata": {},
   "outputs": [
    {
     "data": {
      "text/plain": [
       "Text(0.5, 1.0, 'Sandal')"
      ]
     },
     "execution_count": 108,
     "metadata": {},
     "output_type": "execute_result"
    },
    {
     "data": {
      "image/png": "[encoded data removed]",
      "text/plain": [
       "<Figure size 640x480 with 1 Axes>"
      ]
     },
     "metadata": {},
     "output_type": "display_data"
    }
   ],
   "source": [
    "plt.imshow(test_samples[0].squeeze(), cmap='gray')\n",
    "plt.title(class_names[test_labels[0]])"
   ]
  },
  {
   "cell_type": "code",
   "execution_count": 122,
   "id": "670c1e79",
   "metadata": {},
   "outputs": [
    {
     "data": {
      "text/plain": [
       "tensor([[1.8149e-02, 6.1246e-04, 1.7762e-01, 1.6830e-03, 7.7208e-01, 1.3416e-05,\n",
       "         2.8056e-02, 3.6448e-05, 1.6674e-03, 8.6401e-05],\n",
       "        [7.0330e-05, 9.8959e-06, 1.0514e-02, 9.4096e-05, 9.8622e-01, 1.0082e-07,\n",
       "         2.8780e-03, 4.3880e-07, 2.1456e-04, 1.7306e-06]])"
      ]
     },
     "execution_count": 122,
     "metadata": {},
     "output_type": "execute_result"
    }
   ],
   "source": [
    "# make preds\n",
    "pred_probs = make_predictions(model_2, test_samples)\n",
    "pred_probs[:2]"
   ]
  },
  {
   "cell_type": "code",
   "execution_count": 123,
   "id": "a64c8d38",
   "metadata": {},
   "outputs": [
    {
     "data": {
      "text/plain": [
       "tensor([4, 4, 6, 3, 2, 2, 0, 1, 1])"
      ]
     },
     "execution_count": 123,
     "metadata": {},
     "output_type": "execute_result"
    }
   ],
   "source": [
    "pred_classes = pred_probs.argmax(dim=1)\n",
    "pred_classes"
   ]
  },
  {
   "cell_type": "code",
   "execution_count": 124,
   "id": "2d0c9f32",
   "metadata": {},
   "outputs": [
    {
     "data": {
      "text/plain": [
       "[2, 4, 6, 3, 2, 2, 0, 1, 1]"
      ]
     },
     "execution_count": 124,
     "metadata": {},
     "output_type": "execute_result"
    }
   ],
   "source": [
    "test_labels"
   ]
  },
  {
   "cell_type": "code",
   "execution_count": 127,
   "id": "9d1df7bb",
   "metadata": {},
   "outputs": [
    {
     "data": {
      "image/png": "[encoded data removed]",
      "text/plain": [
       "<Figure size 900x900 with 9 Axes>"
      ]
     },
     "metadata": {},
     "output_type": "display_data"
    }
   ],
   "source": [
    "plt.figure(figsize=(9, 9))\n",
    "nrows = 3\n",
    "ncols = 3\n",
    "for i, sample in enumerate(test_samples):\n",
    "    plt.subplot(nrows, ncols, i+1)\n",
    "    plt.imshow(sample.squeeze(), cmap='gray')\n",
    "\n",
    "    pred_label = class_names[pred_classes[i]]\n",
    "    truth_label = class_names[test_labels[i]]\n",
    "    title_text = f'Pred: {pred_label} | Truth: {truth_label}'\n",
    "    if pred_label == truth_label:\n",
    "        plt.title(title_text, fontsize=10, c='g')\n",
    "    else:\n",
    "        plt.title(title_text, fontsize=10, c='r')\n",
    "\n",
    "    plt.axis(False)"
   ]
  },
  {
   "cell_type": "code",
   "execution_count": 131,
   "id": "1cc2e8d0",
   "metadata": {},
   "outputs": [
    {
     "data": {
      "application/vnd.jupyter.widget-view+json": {
       "model_id": "937251bbc26b45819907cc7b3f3cf44b",
       "version_major": 2,
       "version_minor": 0
      },
      "text/plain": [
       "Making predictions...:   0%|          | 0/313 [00:00<?, ?it/s]"
      ]
     },
     "metadata": {},
     "output_type": "display_data"
    },
    {
     "data": {
      "text/plain": [
       "tensor([9, 2, 1, 1, 6, 1, 4, 6, 5, 7])"
      ]
     },
     "execution_count": 131,
     "metadata": {},
     "output_type": "execute_result"
    }
   ],
   "source": [
    "y_preds = []\n",
    "model_2.eval()\n",
    "with torch.inference_mode():\n",
    "    for X, y in tqdm(test_dataloader, desc=\"Making predictions...\"):\n",
    "        y_logit = model_2(X)\n",
    "        y_pred = torch.softmax(y_logit.squeeze(), dim=0).argmax(dim=1)\n",
    "        y_preds.append(y_pred)\n",
    "\n",
    "# print(y_preds)\n",
    "y_pred_tensor = torch.cat(y_preds)\n",
    "y_pred_tensor[:10]"
   ]
  },
  {
   "cell_type": "code",
   "execution_count": 132,
   "id": "912da610",
   "metadata": {},
   "outputs": [
    {
     "data": {
      "text/plain": [
       "10000"
      ]
     },
     "execution_count": 132,
     "metadata": {},
     "output_type": "execute_result"
    }
   ],
   "source": [
    "len(y_pred_tensor)"
   ]
  },
  {
   "cell_type": "code",
   "execution_count": 138,
   "id": "442d11c7",
   "metadata": {},
   "outputs": [
    {
     "data": {
      "image/png": "[encoded data removed]",
      "text/plain": [
       "<Figure size 1000x700 with 1 Axes>"
      ]
     },
     "metadata": {},
     "output_type": "display_data"
    }
   ],
   "source": [
    "# 10. Making a confusion for further prediction evaluation\n",
    "import mlxtend\n",
    "from torchmetrics import ConfusionMatrix\n",
    "from mlxtend.plotting import plot_confusion_matrix\n",
    "\n",
    "confmat = ConfusionMatrix(task=\"multiclass\" ,num_classes=len(class_names))\n",
    "confmat_tensor = confmat(preds=y_pred_tensor, target=test_data.targets)\n",
    "\n",
    "fig, ax = plot_confusion_matrix(conf_mat=confmat_tensor.numpy(), class_names=class_names, figsize=(10, 7))"
   ]
  },
  {
   "cell_type": "code",
   "execution_count": 139,
   "id": "2f151526",
   "metadata": {},
   "outputs": [
    {
     "data": {
      "text/plain": [
       "tensor([[635,   6,  43,  69,   8,   0, 233,   0,   6,   0],\n",
       "        [  9, 852,   6,  98,  22,   0,  10,   0,   2,   1],\n",
       "        [  8,   2, 810,  10,  86,   0,  81,   0,   3,   0],\n",
       "        [ 37,  10,  31, 837,  38,   1,  39,   0,   5,   2],\n",
       "        [  4,   6, 126,  48, 693,   0, 120,   0,   3,   0],\n",
       "        [  5,   4,   6,   5,   0, 808,   7,  54,  81,  30],\n",
       "        [ 74,   6, 106,  60,  82,   0, 659,   0,  13,   0],\n",
       "        [  1,   1,   0,   0,   0,  29,   0, 897,  16,  56],\n",
       "        [  8,   2,  17,  11,   4,   4,  50,   7, 895,   2],\n",
       "        [  1,   1,   3,   3,   0,  11,  10,  81,  14, 876]])"
      ]
     },
     "execution_count": 139,
     "metadata": {},
     "output_type": "execute_result"
    }
   ],
   "source": [
    "confmat_tensor"
   ]
  },
  {
   "cell_type": "code",
   "execution_count": 141,
   "id": "515e7bb4",
   "metadata": {},
   "outputs": [],
   "source": [
    "from pathlib import Path\n",
    "\n",
    "MODEL_PATH = Path(\"models\")\n",
    "MODEL_PATH.mkdir(parents=True, exist_ok=True)\n",
    "\n",
    "MODEL_NAME = \"computer_vision_model_2.pth\"\n",
    "MODEL_SAVE_PATH = MODEL_PATH / MODEL_NAME\n",
    "\n",
    "MODEL_SAVE_PATH\n",
    "\n",
    "torch.save(obj=model_2.state_dict(), f=MODEL_SAVE_PATH)"
   ]
  }
 ],
 "metadata": {
  "kernelspec": {
   "display_name": ".venv",
   "language": "python",
   "name": "python3"
  },
  "language_info": {
   "codemirror_mode": {
    "name": "ipython",
    "version": 3
   },
   "file_extension": ".py",
   "mimetype": "text/x-python",
   "name": "python",
   "nbconvert_exporter": "python",
   "pygments_lexer": "ipython3",
   "version": "3.13.5"
  }
 },
 "nbformat": 4,
 "nbformat_minor": 5
}
