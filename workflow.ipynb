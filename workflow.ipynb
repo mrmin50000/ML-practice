{
 "cells": [
  {
   "cell_type": "code",
   "execution_count": 3,
   "id": "489315eb",
   "metadata": {},
   "outputs": [],
   "source": [
    "# pytorch workflow\n",
    "\n",
    "what_were_covering = {1: \"data (prepare and load)\",\n",
    "                      2: \"build mdoel\",\n",
    "                      3: \"fitting the model to data\",\n",
    "                      4: \"making predictions and evaluting the model\",\n",
    "                      5: \"saving and loading a model\",\n",
    "                      6: \"putting it all together\"}"
   ]
  },
  {
   "cell_type": "code",
   "execution_count": 4,
   "id": "1eeb7162",
   "metadata": {},
   "outputs": [
    {
     "data": {
      "text/plain": [
       "'2.6.0+rocm6.1'"
      ]
     },
     "execution_count": 4,
     "metadata": {},
     "output_type": "execute_result"
    }
   ],
   "source": [
    "import torch\n",
    "from torch import nn # nn contains all of pytorch's building blocks for neural networks\n",
    "import matplotlib.pyplot as plt\n",
    "\n",
    "torch.__version__"
   ]
  },
  {
   "cell_type": "code",
   "execution_count": null,
   "id": "b60577b3",
   "metadata": {},
   "outputs": [],
   "source": []
  }
 ],
 "metadata": {
  "kernelspec": {
   "display_name": ".venv",
   "language": "python",
   "name": "python3"
  },
  "language_info": {
   "codemirror_mode": {
    "name": "ipython",
    "version": 3
   },
   "file_extension": ".py",
   "mimetype": "text/x-python",
   "name": "python",
   "nbconvert_exporter": "python",
   "pygments_lexer": "ipython3",
   "version": "3.13.5"
  }
 },
 "nbformat": 4,
 "nbformat_minor": 5
}
